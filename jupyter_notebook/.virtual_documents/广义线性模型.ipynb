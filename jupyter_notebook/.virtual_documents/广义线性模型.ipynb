import pandas as pd
import numpy as np
import matplotlib.pyplot as plt


from sklearn import linear_model


ridge = linear_model.RidgeCV(alphas=[0.1, 1, 0.5, 0.2])


ridge.fit([[0, 0], [0, 0], [1, 1]], [0, .1, 1])


ridge.coef_


ridge.intercept_


ridge.alpha_



